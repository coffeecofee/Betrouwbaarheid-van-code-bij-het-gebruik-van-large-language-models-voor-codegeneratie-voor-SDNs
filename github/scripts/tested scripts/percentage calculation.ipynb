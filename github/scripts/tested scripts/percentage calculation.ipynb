{
 "cells": [
  {
   "cell_type": "code",
   "execution_count": 1,
   "id": "a38c9a64-26d3-448e-8634-63878b78b4e8",
   "metadata": {},
   "outputs": [
    {
     "name": "stdout",
     "output_type": "stream",
     "text": [
      "LED average decrease: 81.69%\n",
      "LED lowest decrease: 62.41%\n",
      "LCS average decrease: 1.50%\n",
      "LCS lowest increase: 1.10%\n"
     ]
    }
   ],
   "source": [
    "## percentage gain/decrease calculations: (made with chatgpt)\n",
    "\n",
    "\n",
    "# basic prompt LED\n",
    "basic_average_led = 47.7\n",
    "basic_lowest_led = 133\n",
    "\n",
    "# final prompt LED\n",
    "final_average_led = 8.733333333333333\n",
    "final_lowest_led = 50\n",
    "\n",
    "\n",
    "# basic prompt LCS\n",
    "basic_average_lcs = 104.23333333333333\n",
    "basic_lowest_lcs = 91\n",
    "\n",
    "\n",
    "# final prompt LCS\n",
    "final_average_lcs = 102.66666666666667\n",
    "final_lowest_lcs = 92\n",
    "\n",
    "\n",
    "def percentage_decrease(old_value, new_value):\n",
    "    decrease = old_value - new_value\n",
    "    percentage = (decrease / old_value) * 100\n",
    "    return percentage\n",
    "\n",
    "\n",
    "def percentage_increase(old_value, new_value):\n",
    "    increase = new_value - old_value\n",
    "    percentage = (increase / old_value) * 100\n",
    "    return percentage\n",
    "\n",
    "\n",
    "LED_decrease_avg = percentage_decrease(basic_average_led, final_average_led)\n",
    "LED_decrease_lowest = percentage_decrease(basic_lowest_led, final_lowest_led)\n",
    "\n",
    "LCS_increase_avg = percentage_decrease(basic_average_lcs,final_average_lcs)\n",
    "LCS_increase_lowest = percentage_increase(basic_lowest_lcs,final_lowest_lcs)\n",
    "\n",
    "\n",
    "# Printing results\n",
    "print(f\"LED average decrease: {LED_decrease_avg:.2f}%\")\n",
    "print(f\"LED lowest decrease: {LED_decrease_lowest:.2f}%\")\n",
    "print(f\"LCS average decrease: {LCS_increase_avg:.2f}%\")\n",
    "print(f\"LCS lowest increase: {LCS_increase_lowest:.2f}%\")\n",
    "\n",
    "\n"
   ]
  }
 ],
 "metadata": {
  "kernelspec": {
   "display_name": "Python 3 (ipykernel)",
   "language": "python",
   "name": "python3"
  },
  "language_info": {
   "codemirror_mode": {
    "name": "ipython",
    "version": 3
   },
   "file_extension": ".py",
   "mimetype": "text/x-python",
   "name": "python",
   "nbconvert_exporter": "python",
   "pygments_lexer": "ipython3",
   "version": "3.12.3"
  }
 },
 "nbformat": 4,
 "nbformat_minor": 5
}
